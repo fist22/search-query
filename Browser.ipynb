{
 "cells": [
  {
   "cell_type": "markdown",
   "metadata": {},
   "source": [
    "# Fire a search query using Python"
   ]
  },
  {
   "cell_type": "code",
   "execution_count": null,
   "metadata": {
    "collapsed": true
   },
   "outputs": [],
   "source": [
    "#web browser module\n",
    "import webbrowser"
   ]
  },
  {
   "cell_type": "code",
   "execution_count": null,
   "metadata": {
    "collapsed": true
   },
   "outputs": [],
   "source": [
    "#list for socialMedia, searchEngine, Forum sites\n",
    "sm_list=[\"facebook\",\"twitter\",\"instagram\",\"youtube\"]\n",
    "se_list=[\"google\",\"yahoo\",\"bing\",\"duckduckgo\"]\n",
    "forum_list=[\"quora\",\"medium\"]"
   ]
  },
  {
   "cell_type": "markdown",
   "metadata": {},
   "source": [
    "Functions for various socialMedia, searchEngine, Forum"
   ]
  },
  {
   "cell_type": "code",
   "execution_count": null,
   "metadata": {
    "collapsed": true
   },
   "outputs": [],
   "source": [
    "#Facebook Search\n",
    "def facebook(a): \n",
    "    b=\"https://www.facebook.com/\"+a\n",
    "    return b"
   ]
  },
  {
   "cell_type": "code",
   "execution_count": null,
   "metadata": {
    "collapsed": true
   },
   "outputs": [],
   "source": [
    "#Twitter Search\n",
    "def twitter(a):\n",
    "    b=\"https://twitter.com/search?q=\"+a\n",
    "    return b"
   ]
  },
  {
   "cell_type": "code",
   "execution_count": null,
   "metadata": {
    "collapsed": true
   },
   "outputs": [],
   "source": [
    "#Instagram Search\n",
    "def instagram(a):\n",
    "    b=\"https://www.instagram.com/\"+a\n",
    "    return b"
   ]
  },
  {
   "cell_type": "code",
   "execution_count": null,
   "metadata": {
    "collapsed": true
   },
   "outputs": [],
   "source": [
    "#Quora Search\n",
    "def quora(a):\n",
    "    b=\"https://www.quora.com/search?q=\"+a\n",
    "    return b\n"
   ]
  },
  {
   "cell_type": "code",
   "execution_count": null,
   "metadata": {
    "collapsed": true
   },
   "outputs": [],
   "source": [
    "#Google Search\n",
    "def google(a):\n",
    "    b=\"https://www.google.co.in/search?q=\"+a\n",
    "    return b"
   ]
  },
  {
   "cell_type": "code",
   "execution_count": null,
   "metadata": {
    "collapsed": true
   },
   "outputs": [],
   "source": [
    "#Bing Search\n",
    "def bing(a):\n",
    "    b=\"https://www.bing.com/search?q=\"+a\n",
    "    return b"
   ]
  },
  {
   "cell_type": "code",
   "execution_count": null,
   "metadata": {
    "collapsed": true
   },
   "outputs": [],
   "source": [
    "#Wikipedia Search\n",
    "def wikipedia(a):\n",
    "    b=\"https://en.wikipedia.org/wiki/\"+a\n",
    "    return b"
   ]
  },
  {
   "cell_type": "code",
   "execution_count": null,
   "metadata": {
    "collapsed": true
   },
   "outputs": [],
   "source": [
    "#DuckDuckGo\n",
    "def duckduckgo(a):\n",
    "    b=\"https://duckduckgo.com/?q=\"+a\n",
    "    return b"
   ]
  },
  {
   "cell_type": "code",
   "execution_count": null,
   "metadata": {
    "collapsed": true
   },
   "outputs": [],
   "source": [
    "#Medium Search\n",
    "def medium(a):\n",
    "    b=\"https://medium.com/search?q=\"+a\n",
    "    return b"
   ]
  },
  {
   "cell_type": "code",
   "execution_count": null,
   "metadata": {
    "collapsed": true
   },
   "outputs": [],
   "source": [
    "#Yahoo Search\n",
    "def yahoo(a):\n",
    "    b=\"https://in.search.yahoo.com/search?p=\"+a\n",
    "    return b"
   ]
  },
  {
   "cell_type": "code",
   "execution_count": null,
   "metadata": {
    "collapsed": true
   },
   "outputs": [],
   "source": [
    "#YouTube Search\n",
    "def youtube(a):\n",
    "    b=\"https://www.youtube.com/results?search_query=\"+a\n",
    "    return b"
   ]
  },
  {
   "cell_type": "code",
   "execution_count": null,
   "metadata": {
    "collapsed": true
   },
   "outputs": [],
   "source": [
    "#for rest of\n",
    "def other(a,b):\n",
    "    c=\"https://www.google.co.in/search?q=\"+a+\" \"+b\n",
    "    return c"
   ]
  },
  {
   "cell_type": "markdown",
   "metadata": {},
   "source": [
    "Social Media Section"
   ]
  },
  {
   "cell_type": "code",
   "execution_count": null,
   "metadata": {
    "collapsed": true
   },
   "outputs": [],
   "source": [
    "def socialMedia():\n",
    "\tprint(\"\"\"\n",
    "\t\t* Facebook\n",
    "\t\t* Twitter \n",
    "\t\t* Instagram\n",
    "\t\t* YouTube\"\"\")\n",
    "\n",
    "\tvalue=input(\"Enter your choice: \") #Ask for user choice\n",
    "    \n",
    "\tif value.lower()==sm_list[0]:  \t#match with Facebook\n",
    "\t\tsearch=input(\"Enter Faceboook username: \")\n",
    "\t\turl=facebook(search)\t\t#call facebook() \n",
    "\t\treturn url\n",
    "    \n",
    "\telif value.lower()==sm_list[1]:\n",
    "\t\tsearch=input(\"Enter Twitter username: \")\n",
    "\t\turl=twitter(search)\n",
    "\t\treturn url\n",
    "    \n",
    "\telif value.lower()==sm_list[2]:\n",
    "\t\tsearch=input(\"Enter Instagram username: \")\n",
    "\t\turl=instagram(search)\n",
    "\t\treturn url\n",
    "   \n",
    "\telif value.lower()==sm_list[3]:\n",
    "\t\tsearch=input(\"Enter YouTube username: \")\n",
    "\t\turl=youtube(search)\n",
    "\t\treturn url\n",
    "\t\t\n",
    "\telse:\t\t\t\t\t\t\t\t\t#not matched\n",
    "        #asked for Social Media Username\n",
    "\t\tsearch=input(\"Enter \"+\" \"+ value +\" \"+ \"username: \") \n",
    "\t\turl=other(value,search)\t\t\t#call other()\n",
    "\t\treturn url"
   ]
  },
  {
   "cell_type": "markdown",
   "metadata": {},
   "source": [
    "Search Engine Section"
   ]
  },
  {
   "cell_type": "code",
   "execution_count": null,
   "metadata": {
    "collapsed": true
   },
   "outputs": [],
   "source": [
    "def searchEngine():\n",
    "\tsearch=input(\"What you want to search?? \")\n",
    "\tprint(\"\"\"\n",
    "\t\t* DuckDuckGo\n",
    "\t\t* Google\n",
    "\t\t* Yahoo\n",
    "\t\t* Bing\"\"\") \n",
    "\n",
    "\tvalue=input(\"Enter your choice: \") \t#Ask for user choice\n",
    "\t\n",
    "\tif value.lower()==se_list[0]:\t\t#matched with Google\n",
    "\t\turl=google(search)\t\t\t\t#call Google\n",
    "\t\treturn url\n",
    "    \n",
    "\telif value.lower()==se_list[1]:\n",
    "\t\turl=yahoo(search)\n",
    "\t\treturn url\n",
    "    \n",
    "\telif value.lower()==se_list[2]:\n",
    "\t\turl=bing(search)\n",
    "\t\treturn url\n",
    "    \n",
    "\telif value.lower()==se_list[3]:\n",
    "\t\turl=duckduckgo(search)\n",
    "\t\treturn url\n",
    "\t\t\n",
    "\telse:\n",
    "\t\turl=other(search,value)\n",
    "\t\treturn url"
   ]
  },
  {
   "cell_type": "markdown",
   "metadata": {},
   "source": [
    "Forum Section"
   ]
  },
  {
   "cell_type": "code",
   "execution_count": null,
   "metadata": {
    "collapsed": true
   },
   "outputs": [],
   "source": [
    "def forums():\n",
    "\tsearch=input(\"Enter Question: \")\n",
    "\t\n",
    "\tprint(\"\"\"\n",
    "\t\t* Quora\n",
    "\t\t* Medium\"\"\") \n",
    "\tvalue=input(\"Enter your choice: \") #asked for user choice\n",
    "\t   \n",
    "\tif value.lower()==forum_list[0]:\n",
    "\t\turl=quora(search)\n",
    "\t\treturn url\n",
    "    \n",
    "\telif value.lower()==forum_list[1]:\n",
    "\t\turl=medium(search)\n",
    "\t\treturn url\n",
    "    \n",
    "\telse:\n",
    "\t\turl=other(search,value)\n",
    "\t\treturn url\t\n"
   ]
  },
  {
   "cell_type": "markdown",
   "metadata": {},
   "source": [
    "Main Section"
   ]
  },
  {
   "cell_type": "code",
   "execution_count": null,
   "metadata": {
    "collapsed": true
   },
   "outputs": [],
   "source": [
    "def browser():\n",
    "\t\n",
    "\tflag=True\t\t#initially flag set to True\n",
    "\twhile(flag!=False):\t#execute while block till flag set to False\n",
    "\t\tprint(\"\"\"\n",
    "\t\t1. Social Media\n",
    "\t\t2. Search?\n",
    "\t\t3. Ask Question\"\"\")\n",
    "\t\tchoice=(input(\"Enter Your Choice, (1/2/3): \")) #asked for user choice\n",
    "\t\t#matched with socialMedia \n",
    "        if int(choice) == 1: \n",
    "            #call socialMedia and stored return value in url\n",
    "            url=socialMedia()\n",
    "            #open new tab in browser with passed url\n",
    "\t\t\twebbrowser.open_new(url)\n",
    "\t\telif int(choice) == 2:\t\t\t\n",
    "\t\t\turl=searchEngine()\n",
    "\t\t\twebbrowser.open_new(url)\n",
    "\t\telif int(choice) == 3:\n",
    "\t\t\turl=forums()\n",
    "\t\t\twebbrowser.open_new(url)\n",
    "\t\telse:\n",
    "\t\t\tprint(\"Give correct input!!\")\t\n",
    "\t\t\t\t\n",
    "\t\top=input(\"Continue (y/n): \")\t#if user wants to search again.\n",
    "\n",
    "\t\tif op.lower() == 'y':\n",
    "\t\t\tflag == True\n",
    "\t\telse:\n",
    "\t\t\tprint(\"Good Bye!\")\n",
    "\t\t\texit()\t\t\t\t\t#code terminated.\n"
   ]
  },
  {
   "cell_type": "code",
   "execution_count": null,
   "metadata": {},
   "outputs": [],
   "source": [
    "#----------call browser function to starts surfing\t\n",
    "browser() "
   ]
  },
  {
   "cell_type": "markdown",
   "metadata": {},
   "source": [
    "-Smit Jethwa!"
   ]
  }
 ],
 "metadata": {
  "kernelspec": {
   "display_name": "Python 3",
   "language": "python",
   "name": "python3"
  },
  "language_info": {
   "codemirror_mode": {
    "name": "ipython",
    "version": 3
   },
   "file_extension": ".py",
   "mimetype": "text/x-python",
   "name": "python",
   "nbconvert_exporter": "python",
   "pygments_lexer": "ipython3",
   "version": "3.6.3"
  }
 },
 "nbformat": 4,
 "nbformat_minor": 2
}
